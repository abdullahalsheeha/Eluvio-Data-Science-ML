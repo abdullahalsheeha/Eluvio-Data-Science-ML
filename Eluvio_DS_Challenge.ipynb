{
 "cells": [
  {
   "cell_type": "code",
   "execution_count": 1,
   "metadata": {},
   "outputs": [],
   "source": [
    "import pandas as pd\n",
    "import numpy as np\n",
    "from tensorflow.keras.preprocessing.text import Tokenizer\n",
    "from tensorflow.keras.preprocessing.sequence import pad_sequences\n",
    "import tensorflow as tf\n",
    "from sklearn.preprocessing import LabelEncoder\n",
    "import matplotlib.pyplot as plt"
   ]
  },
  {
   "cell_type": "code",
   "execution_count": 2,
   "metadata": {},
   "outputs": [
    {
     "data": {
      "text/html": [
       "<div>\n",
       "<style scoped>\n",
       "    .dataframe tbody tr th:only-of-type {\n",
       "        vertical-align: middle;\n",
       "    }\n",
       "\n",
       "    .dataframe tbody tr th {\n",
       "        vertical-align: top;\n",
       "    }\n",
       "\n",
       "    .dataframe thead th {\n",
       "        text-align: right;\n",
       "    }\n",
       "</style>\n",
       "<table border=\"1\" class=\"dataframe\">\n",
       "  <thead>\n",
       "    <tr style=\"text-align: right;\">\n",
       "      <th></th>\n",
       "      <th>time_created</th>\n",
       "      <th>date_created</th>\n",
       "      <th>up_votes</th>\n",
       "      <th>down_votes</th>\n",
       "      <th>title</th>\n",
       "      <th>over_18</th>\n",
       "      <th>author</th>\n",
       "      <th>category</th>\n",
       "    </tr>\n",
       "  </thead>\n",
       "  <tbody>\n",
       "    <tr>\n",
       "      <td>0</td>\n",
       "      <td>1201232046</td>\n",
       "      <td>2008-01-25</td>\n",
       "      <td>3</td>\n",
       "      <td>0</td>\n",
       "      <td>Scores killed in Pakistan clashes</td>\n",
       "      <td>False</td>\n",
       "      <td>polar</td>\n",
       "      <td>worldnews</td>\n",
       "    </tr>\n",
       "    <tr>\n",
       "      <td>1</td>\n",
       "      <td>1201232075</td>\n",
       "      <td>2008-01-25</td>\n",
       "      <td>2</td>\n",
       "      <td>0</td>\n",
       "      <td>Japan resumes refuelling mission</td>\n",
       "      <td>False</td>\n",
       "      <td>polar</td>\n",
       "      <td>worldnews</td>\n",
       "    </tr>\n",
       "    <tr>\n",
       "      <td>2</td>\n",
       "      <td>1201232523</td>\n",
       "      <td>2008-01-25</td>\n",
       "      <td>3</td>\n",
       "      <td>0</td>\n",
       "      <td>US presses Egypt on Gaza border</td>\n",
       "      <td>False</td>\n",
       "      <td>polar</td>\n",
       "      <td>worldnews</td>\n",
       "    </tr>\n",
       "    <tr>\n",
       "      <td>3</td>\n",
       "      <td>1201233290</td>\n",
       "      <td>2008-01-25</td>\n",
       "      <td>1</td>\n",
       "      <td>0</td>\n",
       "      <td>Jump-start economy: Give health care to all</td>\n",
       "      <td>False</td>\n",
       "      <td>fadi420</td>\n",
       "      <td>worldnews</td>\n",
       "    </tr>\n",
       "    <tr>\n",
       "      <td>4</td>\n",
       "      <td>1201274720</td>\n",
       "      <td>2008-01-25</td>\n",
       "      <td>4</td>\n",
       "      <td>0</td>\n",
       "      <td>Council of Europe bashes EU&amp;UN terror blacklist</td>\n",
       "      <td>False</td>\n",
       "      <td>mhermans</td>\n",
       "      <td>worldnews</td>\n",
       "    </tr>\n",
       "  </tbody>\n",
       "</table>\n",
       "</div>"
      ],
      "text/plain": [
       "   time_created date_created  up_votes  down_votes  \\\n",
       "0    1201232046   2008-01-25         3           0   \n",
       "1    1201232075   2008-01-25         2           0   \n",
       "2    1201232523   2008-01-25         3           0   \n",
       "3    1201233290   2008-01-25         1           0   \n",
       "4    1201274720   2008-01-25         4           0   \n",
       "\n",
       "                                             title  over_18    author  \\\n",
       "0                Scores killed in Pakistan clashes    False     polar   \n",
       "1                 Japan resumes refuelling mission    False     polar   \n",
       "2                  US presses Egypt on Gaza border    False     polar   \n",
       "3     Jump-start economy: Give health care to all     False   fadi420   \n",
       "4  Council of Europe bashes EU&UN terror blacklist    False  mhermans   \n",
       "\n",
       "    category  \n",
       "0  worldnews  \n",
       "1  worldnews  \n",
       "2  worldnews  \n",
       "3  worldnews  \n",
       "4  worldnews  "
      ]
     },
     "execution_count": 2,
     "metadata": {},
     "output_type": "execute_result"
    }
   ],
   "source": [
    "df = pd.read_csv('Eluvio_DS_Challenge.csv')\n",
    "df.head()"
   ]
  },
  {
   "cell_type": "code",
   "execution_count": 3,
   "metadata": {},
   "outputs": [],
   "source": [
    "vocab_size = 10000\n",
    "embedding_dim = 16\n",
    "max_length = 30\n",
    "trunc_type='post'\n",
    "padding_type='post'\n",
    "oov_tok = \"<OOV>\""
   ]
  },
  {
   "cell_type": "code",
   "execution_count": 4,
   "metadata": {},
   "outputs": [
    {
     "data": {
      "text/plain": [
       "time_created    0\n",
       "date_created    0\n",
       "up_votes        0\n",
       "down_votes      0\n",
       "title           0\n",
       "over_18         0\n",
       "author          0\n",
       "category        0\n",
       "dtype: int64"
      ]
     },
     "execution_count": 4,
     "metadata": {},
     "output_type": "execute_result"
    }
   ],
   "source": [
    "df.isnull().sum()"
   ]
  },
  {
   "cell_type": "code",
   "execution_count": 5,
   "metadata": {},
   "outputs": [],
   "source": [
    "df.drop(['down_votes', 'category', 'time_created', 'date_created'], axis=1, inplace=True)\n",
    "df['over_18'] = LabelEncoder().fit_transform(df['over_18'])"
   ]
  },
  {
   "cell_type": "code",
   "execution_count": 6,
   "metadata": {},
   "outputs": [
    {
     "data": {
      "text/html": [
       "<div>\n",
       "<style scoped>\n",
       "    .dataframe tbody tr th:only-of-type {\n",
       "        vertical-align: middle;\n",
       "    }\n",
       "\n",
       "    .dataframe tbody tr th {\n",
       "        vertical-align: top;\n",
       "    }\n",
       "\n",
       "    .dataframe thead th {\n",
       "        text-align: right;\n",
       "    }\n",
       "</style>\n",
       "<table border=\"1\" class=\"dataframe\">\n",
       "  <thead>\n",
       "    <tr style=\"text-align: right;\">\n",
       "      <th></th>\n",
       "      <th>up_votes</th>\n",
       "      <th>title</th>\n",
       "      <th>over_18</th>\n",
       "      <th>author</th>\n",
       "    </tr>\n",
       "  </thead>\n",
       "  <tbody>\n",
       "    <tr>\n",
       "      <td>0</td>\n",
       "      <td>3</td>\n",
       "      <td>Scores killed in Pakistan clashes</td>\n",
       "      <td>0</td>\n",
       "      <td>polar</td>\n",
       "    </tr>\n",
       "    <tr>\n",
       "      <td>1</td>\n",
       "      <td>2</td>\n",
       "      <td>Japan resumes refuelling mission</td>\n",
       "      <td>0</td>\n",
       "      <td>polar</td>\n",
       "    </tr>\n",
       "    <tr>\n",
       "      <td>2</td>\n",
       "      <td>3</td>\n",
       "      <td>US presses Egypt on Gaza border</td>\n",
       "      <td>0</td>\n",
       "      <td>polar</td>\n",
       "    </tr>\n",
       "    <tr>\n",
       "      <td>3</td>\n",
       "      <td>1</td>\n",
       "      <td>Jump-start economy: Give health care to all</td>\n",
       "      <td>0</td>\n",
       "      <td>fadi420</td>\n",
       "    </tr>\n",
       "    <tr>\n",
       "      <td>4</td>\n",
       "      <td>4</td>\n",
       "      <td>Council of Europe bashes EU&amp;UN terror blacklist</td>\n",
       "      <td>0</td>\n",
       "      <td>mhermans</td>\n",
       "    </tr>\n",
       "  </tbody>\n",
       "</table>\n",
       "</div>"
      ],
      "text/plain": [
       "   up_votes                                            title  over_18  \\\n",
       "0         3                Scores killed in Pakistan clashes        0   \n",
       "1         2                 Japan resumes refuelling mission        0   \n",
       "2         3                  US presses Egypt on Gaza border        0   \n",
       "3         1     Jump-start economy: Give health care to all         0   \n",
       "4         4  Council of Europe bashes EU&UN terror blacklist        0   \n",
       "\n",
       "     author  \n",
       "0     polar  \n",
       "1     polar  \n",
       "2     polar  \n",
       "3   fadi420  \n",
       "4  mhermans  "
      ]
     },
     "execution_count": 6,
     "metadata": {},
     "output_type": "execute_result"
    }
   ],
   "source": [
    "df.head()"
   ]
  },
  {
   "cell_type": "code",
   "execution_count": 7,
   "metadata": {},
   "outputs": [],
   "source": [
    "x = df['title']\n",
    "y = df['over_18']"
   ]
  },
  {
   "cell_type": "code",
   "execution_count": 8,
   "metadata": {},
   "outputs": [],
   "source": [
    "x_train = x[:400000]\n",
    "y_train = y[:400000]\n",
    "x_val = x[400000:450000]\n",
    "y_val = y[400000:450000]\n",
    "x_test = x[450000:]\n",
    "y_test = y[450000:]"
   ]
  },
  {
   "cell_type": "code",
   "execution_count": 9,
   "metadata": {},
   "outputs": [],
   "source": [
    "tokenizer = Tokenizer(num_words=vocab_size, oov_token=oov_tok)\n",
    "tokenizer.fit_on_texts(x_train)\n",
    "\n",
    "word_index = tokenizer.word_index\n",
    "\n",
    "training_sequences = tokenizer.texts_to_sequences(x_train)\n",
    "training_padded = pad_sequences(training_sequences, maxlen=max_length, padding=padding_type, truncating=trunc_type)\n",
    "\n",
    "testing_sequences = tokenizer.texts_to_sequences(x_test)\n",
    "testing_padded = pad_sequences(testing_sequences, maxlen=max_length, padding=padding_type, truncating=trunc_type)"
   ]
  },
  {
   "cell_type": "code",
   "execution_count": 10,
   "metadata": {},
   "outputs": [],
   "source": [
    "val_sequences = tokenizer.texts_to_sequences(x_val)\n",
    "val_padded = pad_sequences(val_sequences, maxlen=max_length, padding=padding_type, truncating=trunc_type)"
   ]
  },
  {
   "cell_type": "code",
   "execution_count": 11,
   "metadata": {},
   "outputs": [],
   "source": [
    "training_padded = np.array(training_padded)\n",
    "training_labels = np.array(y_train)\n",
    "val_padded = np.array(val_padded)\n",
    "val_labels = np.array(y_val)\n",
    "testing_padded = np.array(testing_padded)\n",
    "testing_labels = np.array(y_test)"
   ]
  },
  {
   "cell_type": "code",
   "execution_count": 12,
   "metadata": {},
   "outputs": [],
   "source": [
    "model = tf.keras.Sequential([\n",
    "    tf.keras.layers.Embedding(vocab_size, embedding_dim, input_length=max_length),\n",
    "    tf.keras.layers.GlobalAveragePooling1D(),\n",
    "    tf.keras.layers.Dense(64, activation='relu'),\n",
    "    tf.keras.layers.Dense(1, activation='sigmoid')\n",
    "])\n",
    "\n",
    "model.compile(loss='binary_crossentropy',\n",
    "             optimizer=tf.keras.optimizers.Adam(lr=0.001),\n",
    "             metrics=['accuracy'])"
   ]
  },
  {
   "cell_type": "code",
   "execution_count": 13,
   "metadata": {},
   "outputs": [
    {
     "name": "stdout",
     "output_type": "stream",
     "text": [
      "Model: \"sequential\"\n",
      "_________________________________________________________________\n",
      "Layer (type)                 Output Shape              Param #   \n",
      "=================================================================\n",
      "embedding (Embedding)        (None, 30, 16)            160000    \n",
      "_________________________________________________________________\n",
      "global_average_pooling1d (Gl (None, 16)                0         \n",
      "_________________________________________________________________\n",
      "dense (Dense)                (None, 64)                1088      \n",
      "_________________________________________________________________\n",
      "dense_1 (Dense)              (None, 1)                 65        \n",
      "=================================================================\n",
      "Total params: 161,153\n",
      "Trainable params: 161,153\n",
      "Non-trainable params: 0\n",
      "_________________________________________________________________\n"
     ]
    }
   ],
   "source": [
    "model.summary()"
   ]
  },
  {
   "cell_type": "code",
   "execution_count": 14,
   "metadata": {},
   "outputs": [
    {
     "name": "stdout",
     "output_type": "stream",
     "text": [
      "Epoch 1/20\n",
      "12500/12500 - 12s - loss: 0.0083 - accuracy: 0.9993 - val_loss: 0.0036 - val_accuracy: 0.9996\n",
      "Epoch 2/20\n",
      "12500/12500 - 12s - loss: 0.0034 - accuracy: 0.9993 - val_loss: 0.0041 - val_accuracy: 0.9996\n",
      "Epoch 3/20\n",
      "12500/12500 - 12s - loss: 0.0028 - accuracy: 0.9994 - val_loss: 0.0043 - val_accuracy: 0.9996\n",
      "Epoch 4/20\n",
      "12500/12500 - 12s - loss: 0.0024 - accuracy: 0.9995 - val_loss: 0.0047 - val_accuracy: 0.9996\n",
      "Epoch 5/20\n",
      "12500/12500 - 12s - loss: 0.0022 - accuracy: 0.9995 - val_loss: 0.0050 - val_accuracy: 0.9996\n",
      "Epoch 6/20\n",
      "12500/12500 - 12s - loss: 0.0021 - accuracy: 0.9996 - val_loss: 0.0052 - val_accuracy: 0.9996\n",
      "Epoch 7/20\n",
      "12500/12500 - 13s - loss: 0.0020 - accuracy: 0.9996 - val_loss: 0.0049 - val_accuracy: 0.9996\n",
      "Epoch 8/20\n",
      "12500/12500 - 12s - loss: 0.0019 - accuracy: 0.9996 - val_loss: 0.0049 - val_accuracy: 0.9996\n",
      "Epoch 9/20\n",
      "12500/12500 - 13s - loss: 0.0019 - accuracy: 0.9996 - val_loss: 0.0046 - val_accuracy: 0.9996\n",
      "Epoch 10/20\n",
      "12500/12500 - 12s - loss: 0.0018 - accuracy: 0.9996 - val_loss: 0.0047 - val_accuracy: 0.9996\n",
      "Epoch 11/20\n",
      "12500/12500 - 12s - loss: 0.0017 - accuracy: 0.9996 - val_loss: 0.0059 - val_accuracy: 0.9996\n",
      "Epoch 12/20\n",
      "12500/12500 - 13s - loss: 0.0016 - accuracy: 0.9996 - val_loss: 0.0054 - val_accuracy: 0.9996\n",
      "Epoch 13/20\n",
      "12500/12500 - 13s - loss: 0.0016 - accuracy: 0.9996 - val_loss: 0.0053 - val_accuracy: 0.9996\n",
      "Epoch 14/20\n",
      "12500/12500 - 12s - loss: 0.0016 - accuracy: 0.9996 - val_loss: 0.0056 - val_accuracy: 0.9996\n",
      "Epoch 15/20\n",
      "12500/12500 - 12s - loss: 0.0015 - accuracy: 0.9997 - val_loss: 0.0056 - val_accuracy: 0.9996\n",
      "Epoch 16/20\n",
      "12500/12500 - 12s - loss: 0.0015 - accuracy: 0.9996 - val_loss: 0.0047 - val_accuracy: 0.9996\n",
      "Epoch 17/20\n",
      "12500/12500 - 12s - loss: 0.0014 - accuracy: 0.9997 - val_loss: 0.0051 - val_accuracy: 0.9996\n",
      "Epoch 18/20\n",
      "12500/12500 - 13s - loss: 0.0014 - accuracy: 0.9997 - val_loss: 0.0059 - val_accuracy: 0.9996\n",
      "Epoch 19/20\n",
      "12500/12500 - 13s - loss: 0.0014 - accuracy: 0.9997 - val_loss: 0.0051 - val_accuracy: 0.9996\n",
      "Epoch 20/20\n",
      "12500/12500 - 12s - loss: 0.0013 - accuracy: 0.9997 - val_loss: 0.0054 - val_accuracy: 0.9996\n"
     ]
    }
   ],
   "source": [
    "num_epochs = 20\n",
    "history = model.fit(training_padded, training_labels,\n",
    "                    epochs=num_epochs, validation_data=(val_padded, val_labels), verbose=2)"
   ]
  },
  {
   "cell_type": "code",
   "execution_count": 15,
   "metadata": {},
   "outputs": [
    {
     "data": {
      "image/png": "[encoded data removed]",
      "text/plain": [
       "<Figure size 432x288 with 1 Axes>"
      ]
     },
     "metadata": {
      "needs_background": "light"
     },
     "output_type": "display_data"
    },
    {
     "data": {
      "image/png": "[encoded data removed]",
      "text/plain": [
       "<Figure size 432x288 with 1 Axes>"
      ]
     },
     "metadata": {
      "needs_background": "light"
     },
     "output_type": "display_data"
    }
   ],
   "source": [
    "def plot_history(history):\n",
    "    acc = history.history['accuracy']\n",
    "    loss = history.history['loss']\n",
    "    val_acc = history.history['val_accuracy']\n",
    "    val_loss = history.history['val_loss']\n",
    "    \n",
    "    plt.figure(1)\n",
    "    plt.plot(acc, label='Training accuracy')\n",
    "    plt.plot(val_acc, label='Validation Accuracy')\n",
    "    plt.legend(['Train', 'Valid'])\n",
    "    plt.xlabel('epochs')\n",
    "    plt.ylabel('Accuracy')\n",
    "    plt.title('Training and Validation Accuracy')\n",
    "    plt.show()\n",
    "    \n",
    "    plt.figure(2)\n",
    "    plt.plot(loss)\n",
    "    plt.plot(val_loss)\n",
    "    plt.legend(['Train', 'Valid'])\n",
    "    plt.xlabel('epochs')\n",
    "    plt.ylabel('Loss')\n",
    "    plt.title('Training and Validation Loss')\n",
    "    plt.show\n",
    "    \n",
    "plot_history(history)"
   ]
  },
  {
   "cell_type": "code",
   "execution_count": 16,
   "metadata": {},
   "outputs": [
    {
     "name": "stdout",
     "output_type": "stream",
     "text": [
      "1852/1852 [==============================] - 1s 484us/step - loss: 0.0065 - accuracy: 0.9995\n"
     ]
    },
    {
     "data": {
      "text/plain": [
       "[0.006464100442826748, 0.9994935393333435]"
      ]
     },
     "execution_count": 16,
     "metadata": {},
     "output_type": "execute_result"
    }
   ],
   "source": [
    "model.evaluate(testing_padded, testing_labels)"
   ]
  },
  {
   "cell_type": "code",
   "execution_count": 17,
   "metadata": {},
   "outputs": [
    {
     "name": "stdout",
     "output_type": "stream",
     "text": [
      "WARNING:tensorflow:Model was constructed with shape (None, 30) for input Tensor(\"embedding_input:0\", shape=(None, 30), dtype=float32), but it was called on an input with incompatible shape (None, 1).\n"
     ]
    },
    {
     "data": {
      "text/plain": [
       "array([[5.3741145e-32],\n",
       "       [0.0000000e+00],\n",
       "       [7.4165990e-05],\n",
       "       [7.8380108e-04],\n",
       "       [1.5786618e-02],\n",
       "       [9.7482967e-01],\n",
       "       [0.0000000e+00],\n",
       "       [8.1439852e-13],\n",
       "       [1.0000000e+00],\n",
       "       [1.3137114e-14],\n",
       "       [6.2168392e-25],\n",
       "       [3.6856532e-04],\n",
       "       [3.6856532e-04],\n",
       "       [3.6856532e-04],\n",
       "       [3.6856532e-04],\n",
       "       [3.6856532e-04],\n",
       "       [3.6856532e-04],\n",
       "       [3.6856532e-04],\n",
       "       [3.6856532e-04],\n",
       "       [3.6856532e-04],\n",
       "       [3.6856532e-04],\n",
       "       [3.6856532e-04],\n",
       "       [3.6856532e-04],\n",
       "       [3.6856532e-04],\n",
       "       [3.6856532e-04],\n",
       "       [3.6856532e-04],\n",
       "       [3.6856532e-04],\n",
       "       [3.6856532e-04],\n",
       "       [3.6856532e-04],\n",
       "       [3.6856532e-04]], dtype=float32)"
      ]
     },
     "execution_count": 17,
     "metadata": {},
     "output_type": "execute_result"
    }
   ],
   "source": [
    "model.predict(testing_padded[0])"
   ]
  },
  {
   "cell_type": "code",
   "execution_count": 18,
   "metadata": {},
   "outputs": [
    {
     "data": {
      "text/plain": [
       "array([[8.8451482e-18],\n",
       "       [0.0000000e+00],\n",
       "       [1.1225045e-03],\n",
       "       [5.7348995e-12],\n",
       "       [0.0000000e+00],\n",
       "       [6.0959756e-03],\n",
       "       [6.2168392e-25],\n",
       "       [3.6856532e-04],\n",
       "       [3.6856532e-04],\n",
       "       [3.6856532e-04],\n",
       "       [3.6856532e-04],\n",
       "       [3.6856532e-04],\n",
       "       [3.6856532e-04],\n",
       "       [3.6856532e-04],\n",
       "       [3.6856532e-04],\n",
       "       [3.6856532e-04],\n",
       "       [3.6856532e-04],\n",
       "       [3.6856532e-04],\n",
       "       [3.6856532e-04],\n",
       "       [3.6856532e-04],\n",
       "       [3.6856532e-04],\n",
       "       [3.6856532e-04],\n",
       "       [3.6856532e-04],\n",
       "       [3.6856532e-04],\n",
       "       [3.6856532e-04],\n",
       "       [3.6856532e-04],\n",
       "       [3.6856532e-04],\n",
       "       [3.6856532e-04],\n",
       "       [3.6856532e-04],\n",
       "       [3.6856532e-04]], dtype=float32)"
      ]
     },
     "execution_count": 18,
     "metadata": {},
     "output_type": "execute_result"
    }
   ],
   "source": [
    "model.predict(testing_padded[10])"
   ]
  },
  {
   "cell_type": "code",
   "execution_count": 19,
   "metadata": {},
   "outputs": [],
   "source": [
    "model.save('model.h5')"
   ]
  }
 ],
 "metadata": {
  "kernelspec": {
   "display_name": "keras",
   "language": "python",
   "name": "keras"
  },
  "language_info": {
   "codemirror_mode": {
    "name": "ipython",
    "version": 3
   },
   "file_extension": ".py",
   "mimetype": "text/x-python",
   "name": "python",
   "nbconvert_exporter": "python",
   "pygments_lexer": "ipython3",
   "version": "3.7.4"
  }
 },
 "nbformat": 4,
 "nbformat_minor": 2
}
